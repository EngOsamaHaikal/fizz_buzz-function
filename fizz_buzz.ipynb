{
  "nbformat": 4,
  "nbformat_minor": 0,
  "metadata": {
    "colab": {
      "name": "fizz_buzz.ipynb",
      "provenance": [],
      "authorship_tag": "ABX9TyMYsTrshZXJ/APTM7+ewVR/",
      "include_colab_link": true
    },
    "kernelspec": {
      "name": "python3",
      "display_name": "Python 3"
    }
  },
  "cells": [
    {
      "cell_type": "markdown",
      "metadata": {
        "id": "view-in-github",
        "colab_type": "text"
      },
      "source": [
        "<a href=\"https://colab.research.google.com/github/EngOsamaHaikal/fizz_buzz-function/blob/main/fizz_buzz.ipynb\" target=\"_parent\"><img src=\"https://colab.research.google.com/assets/colab-badge.svg\" alt=\"Open In Colab\"/></a>"
      ]
    },
    {
      "cell_type": "code",
      "metadata": {
        "id": "5dTStx0ufR--"
      },
      "source": [
        "def fizz_buzz():\r\n",
        "    dic={} \r\n",
        "    for i in range(1, 101):\r\n",
        "        if i % 3 == 0 and i % 5 == 0:\r\n",
        "            d={i:\"fizz_buzz\"}\r\n",
        "            dic.update(d)\r\n",
        "        elif i % 3 == 0:\r\n",
        "            d={i:\"fizz\"}\r\n",
        "            dic.update(d)\r\n",
        "        elif i % 5 == 0:\r\n",
        "            d={i:\"buzz\"}\r\n",
        "            dic.update(d)\r\n",
        "        else:\r\n",
        "            d={i:\"None\"}\r\n",
        "            dic.update(d)\r\n",
        "    return dic       "
      ],
      "execution_count": 1,
      "outputs": []
    },
    {
      "cell_type": "code",
      "metadata": {
        "colab": {
          "base_uri": "https://localhost:8080/"
        },
        "id": "nrT3tQXgiqDW",
        "outputId": "a33cd377-b0d5-4fa9-c8bb-53ee6e2084be"
      },
      "source": [
        "fizz_buzz()"
      ],
      "execution_count": 2,
      "outputs": [
        {
          "output_type": "execute_result",
          "data": {
            "text/plain": [
              "{1: 'None',\n",
              " 2: 'None',\n",
              " 3: 'fizz',\n",
              " 4: 'None',\n",
              " 5: 'buzz',\n",
              " 6: 'fizz',\n",
              " 7: 'None',\n",
              " 8: 'None',\n",
              " 9: 'fizz',\n",
              " 10: 'buzz',\n",
              " 11: 'None',\n",
              " 12: 'fizz',\n",
              " 13: 'None',\n",
              " 14: 'None',\n",
              " 15: 'fizz_buzz',\n",
              " 16: 'None',\n",
              " 17: 'None',\n",
              " 18: 'fizz',\n",
              " 19: 'None',\n",
              " 20: 'buzz',\n",
              " 21: 'fizz',\n",
              " 22: 'None',\n",
              " 23: 'None',\n",
              " 24: 'fizz',\n",
              " 25: 'buzz',\n",
              " 26: 'None',\n",
              " 27: 'fizz',\n",
              " 28: 'None',\n",
              " 29: 'None',\n",
              " 30: 'fizz_buzz',\n",
              " 31: 'None',\n",
              " 32: 'None',\n",
              " 33: 'fizz',\n",
              " 34: 'None',\n",
              " 35: 'buzz',\n",
              " 36: 'fizz',\n",
              " 37: 'None',\n",
              " 38: 'None',\n",
              " 39: 'fizz',\n",
              " 40: 'buzz',\n",
              " 41: 'None',\n",
              " 42: 'fizz',\n",
              " 43: 'None',\n",
              " 44: 'None',\n",
              " 45: 'fizz_buzz',\n",
              " 46: 'None',\n",
              " 47: 'None',\n",
              " 48: 'fizz',\n",
              " 49: 'None',\n",
              " 50: 'buzz',\n",
              " 51: 'fizz',\n",
              " 52: 'None',\n",
              " 53: 'None',\n",
              " 54: 'fizz',\n",
              " 55: 'buzz',\n",
              " 56: 'None',\n",
              " 57: 'fizz',\n",
              " 58: 'None',\n",
              " 59: 'None',\n",
              " 60: 'fizz_buzz',\n",
              " 61: 'None',\n",
              " 62: 'None',\n",
              " 63: 'fizz',\n",
              " 64: 'None',\n",
              " 65: 'buzz',\n",
              " 66: 'fizz',\n",
              " 67: 'None',\n",
              " 68: 'None',\n",
              " 69: 'fizz',\n",
              " 70: 'buzz',\n",
              " 71: 'None',\n",
              " 72: 'fizz',\n",
              " 73: 'None',\n",
              " 74: 'None',\n",
              " 75: 'fizz_buzz',\n",
              " 76: 'None',\n",
              " 77: 'None',\n",
              " 78: 'fizz',\n",
              " 79: 'None',\n",
              " 80: 'buzz',\n",
              " 81: 'fizz',\n",
              " 82: 'None',\n",
              " 83: 'None',\n",
              " 84: 'fizz',\n",
              " 85: 'buzz',\n",
              " 86: 'None',\n",
              " 87: 'fizz',\n",
              " 88: 'None',\n",
              " 89: 'None',\n",
              " 90: 'fizz_buzz',\n",
              " 91: 'None',\n",
              " 92: 'None',\n",
              " 93: 'fizz',\n",
              " 94: 'None',\n",
              " 95: 'buzz',\n",
              " 96: 'fizz',\n",
              " 97: 'None',\n",
              " 98: 'None',\n",
              " 99: 'fizz',\n",
              " 100: 'buzz'}"
            ]
          },
          "metadata": {
            "tags": []
          },
          "execution_count": 2
        }
      ]
    }
  ]
}